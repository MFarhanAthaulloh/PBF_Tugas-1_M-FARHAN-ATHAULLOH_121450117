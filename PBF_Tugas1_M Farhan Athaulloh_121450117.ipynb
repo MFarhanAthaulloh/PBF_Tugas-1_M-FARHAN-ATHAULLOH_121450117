{
 "cells": [
  {
   "cell_type": "markdown",
   "id": "7afc3fdc-a4e4-44ad-afec-e98a22a05306",
   "metadata": {},
   "source": [
    "TUGAS1 Pemrograman Berbasis Fungsi"
   ]
  },
  {
   "cell_type": "markdown",
   "id": "1cb3f0f0-9409-40d5-a92c-6bde96a86bf1",
   "metadata": {},
   "source": [
    "NOMOR 1"
   ]
  },
  {
   "cell_type": "code",
   "execution_count": 2,
   "id": "9366f67c-d757-418a-8333-350c09188a01",
   "metadata": {},
   "outputs": [],
   "source": [
    "import pandas as pd"
   ]
  },
  {
   "cell_type": "code",
   "execution_count": 29,
   "id": "9e7ac510-946a-40fa-8048-44573b9a7e58",
   "metadata": {},
   "outputs": [
    {
     "name": "stdout",
     "output_type": "stream",
     "text": [
      "                                     kelebihan  \\\n",
      "0  penulisan program sederhana dan terstruktur   \n",
      "1                            mudah diterlusuri   \n",
      "2         Penggunaan space memory yang sedikit   \n",
      "\n",
      "                                kekurangan  \n",
      "0                              kurang aman  \n",
      "1        proses penambahan data yang sulit  \n",
      "2  fungsi yang tersedia sulit untuk diubah  \n"
     ]
    }
   ],
   "source": [
    "tabel= {'kelebihan' :['penulisan program sederhana dan terstruktur', 'mudah diterlusuri', 'Penggunaan space memory yang sedikit'],\n",
    "         'kekurangan' : ['kurang aman', 'proses penambahan data yang sulit', 'fungsi yang tersedia sulit untuk diubah']\n",
    "        }\n",
    "df = pd.DataFrame (tabel)\n",
    "print (df)"
   ]
  },
  {
   "cell_type": "markdown",
   "id": "40e63718-ec77-4f93-966a-74b2f5d5ebd8",
   "metadata": {},
   "source": [
    "NOMOR 2\n",
    "\n"
   ]
  },
  {
   "cell_type": "code",
   "execution_count": 30,
   "id": "80e5a630-a28b-4c0f-b1fe-44875d168110",
   "metadata": {
    "tags": []
   },
   "outputs": [
    {
     "name": "stdout",
     "output_type": "stream",
     "text": [
      "                              kelebihan  \\\n",
      "0                            Lebih Aman   \n",
      "1                           reusability   \n",
      "2  digunakan dalam projek yang kompleks   \n",
      "\n",
      "                                         kekurangan  \n",
      "0                              sulit untuk dipahami  \n",
      "1         Penggunaan space memori yang lebih banyak  \n",
      "2  proses pembuatan program memakan waktu yang lama  \n"
     ]
    }
   ],
   "source": [
    "tabel= {'kelebihan' :['Lebih Aman', 'reusability', 'digunakan dalam projek yang kompleks'],\n",
    "         'kekurangan' : ['sulit untuk dipahami', 'Penggunaan space memori yang lebih banyak', 'proses pembuatan program memakan waktu yang lama']\n",
    "        }\n",
    "df = pd.DataFrame (tabel)\n",
    "print (df)"
   ]
  },
  {
   "cell_type": "markdown",
   "id": "b67f5226-faf8-49ea-9bd2-3ac77159bf79",
   "metadata": {},
   "source": [
    "NOMOR 3\n"
   ]
  },
  {
   "cell_type": "code",
   "execution_count": 31,
   "id": "7ac8b095-9a67-4312-90c1-047c5e06777d",
   "metadata": {
    "tags": []
   },
   "outputs": [
    {
     "name": "stdout",
     "output_type": "stream",
     "text": [
      "                                   kelebihan                       kekurangan\n",
      "0  lebih mudah untuk mendebug dan modifikasi                 Kurang fleksibel\n",
      "1           Manajemen memory yang lebih baik  lebih rentan terhadap kesalahan\n",
      "2                     lebih mudah dipelajari   lebih sulit untuk dioptimalkan\n"
     ]
    }
   ],
   "source": [
    "tabel= {'kelebihan' :['lebih mudah untuk mendebug dan modifikasi', 'Manajemen memory yang lebih baik', 'lebih mudah dipelajari'],\n",
    "         'kekurangan' : ['Kurang fleksibel', 'lebih rentan terhadap kesalahan', 'lebih sulit untuk dioptimalkan']\n",
    "        }\n",
    "df = pd.DataFrame (tabel)\n",
    "print (df)"
   ]
  },
  {
   "cell_type": "markdown",
   "id": "bd7e55a2-5a1c-45f7-9298-68cedd6b9946",
   "metadata": {},
   "source": [
    "NOMOR 4\n"
   ]
  },
  {
   "cell_type": "markdown",
   "id": "bd0e0d0c-074b-4337-832c-bc957a043f8b",
   "metadata": {
    "tags": []
   },
   "source": [
    "Pure functional programming biasanya menunjuk paradigma pemrograman, gaya membangun struktur dan elemen program komputer yang memperlakukan semua komputasi sebagai evaluasi fungsi matematika\n"
   ]
  },
  {
   "cell_type": "markdown",
   "id": "f4ead616-b8f7-4412-8ef0-01b50b17d905",
   "metadata": {},
   "source": [
    "NOMOR 5"
   ]
  },
  {
   "cell_type": "markdown",
   "id": "c4c515f9-2e26-4a3d-bd78-00a7de24fcfc",
   "metadata": {},
   "source": [
    "Lisp, Haskell, dan javascript"
   ]
  },
  {
   "cell_type": "markdown",
   "id": "b6bdcd99-5902-4b73-9dc1-9e36def59ce4",
   "metadata": {},
   "source": [
    "NOMOR 6"
   ]
  },
  {
   "cell_type": "code",
   "execution_count": 5,
   "id": "26dc0e08-e54f-48a9-8980-19b7d537161b",
   "metadata": {
    "tags": []
   },
   "outputs": [],
   "source": [
    "def encrypt_password(pas):\n",
    "    if len(pas) > 100:\n",
    "        return \"Error: kata melebihi batas\"\n",
    "\n",
    "    encrypted_password = \"\"\n",
    "    for char in pas:\n",
    "        ascii_value = ord(char)\n",
    "        first_value = round((ascii_value / 26)) + 80\n",
    "        second_value = (ascii_value % 26) + 80\n",
    "        third_value = '+' if first_value > second_value else '-'\n",
    "        encrypted_password += chr(first_value) + chr(second_value) + third_value\n",
    "\n",
    "    return encrypted_password"
   ]
  },
  {
   "cell_type": "code",
   "execution_count": 18,
   "id": "c5315ea3-d099-48e3-a21f-90ed2a062111",
   "metadata": {
    "tags": []
   },
   "outputs": [
    {
     "name": "stdout",
     "output_type": "stream",
     "text": [
      "S`-Tc-T\\-Tc-QV-Sf-T]-TX-Ua-T\\-Tg-TZ-\n"
     ]
    }
   ],
   "source": [
    "print(encrypt_password(\"Data Jupyter\"))"
   ]
  }
 ],
 "metadata": {
  "kernelspec": {
   "display_name": "Python 3 (ipykernel)",
   "language": "python",
   "name": "python3"
  },
  "language_info": {
   "codemirror_mode": {
    "name": "ipython",
    "version": 3
   },
   "file_extension": ".py",
   "mimetype": "text/x-python",
   "name": "python",
   "nbconvert_exporter": "python",
   "pygments_lexer": "ipython3",
   "version": "3.10.7"
  }
 },
 "nbformat": 4,
 "nbformat_minor": 5
}
